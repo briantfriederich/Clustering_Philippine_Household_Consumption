{
 "cells": [
  {
   "cell_type": "markdown",
   "metadata": {},
   "source": [
    "# Exploring-Household-Level-Economics-In-The-Philippines\n",
    "## Using cluster analysis in Python to explore consumption patterns and purchasing decisions in Filipino household data"
   ]
  },
  {
   "cell_type": "markdown",
   "metadata": {},
   "source": [
    "### Importing and Exploring the Data\n",
    "First, I wanted to import and explore the dataset to better know what information I had to work with. The dataset has a good number of observations, which generally improves eventual accuracy in predictive performance, though more observations also means I'll likely have to do dimensionality reduction on the set, as k-means analysis has an O(nk) cost function. Also, the set has 60 features. I'll want to narrow this down to a much smaller number. For this analysis I will focus only on consumption patterns"
   ]
  },
  {
   "cell_type": "code",
   "execution_count": 42,
   "metadata": {},
   "outputs": [
    {
     "name": "stdout",
     "output_type": "stream",
     "text": [
      "Dataset has 41544 households with 60 features each.\n"
     ]
    }
   ],
   "source": [
    "#Import libraries\n",
    "import numpy as np\n",
    "import pandas as pd\n",
    "import matplotlib.pyplot as plt\n",
    "%matplotlib inline\n",
    "\n",
    "#Import dataset\n",
    "data = pd.read_csv(\"Family_Income_and_Expenditure.csv\")\n",
    "print \"Dataset has {} households with {} features each.\".format(*data.shape)"
   ]
  },
  {
   "cell_type": "code",
   "execution_count": 43,
   "metadata": {},
   "outputs": [
    {
     "data": {
      "text/plain": [
       "Total_Household_Income                            int64\n",
       "Region                                           object\n",
       "Total_Food_Expenditure                            int64\n",
       "Main_Source_of_Income                            object\n",
       "Agricultural_Household_indicator                  int64\n",
       "Bread_and_Cereals_Expenditure                     int64\n",
       "Total_Rice_Expenditure                            int64\n",
       "Meat_Expenditure                                  int64\n",
       "Total_Fish_and__marine_products_Expenditure       int64\n",
       "Fruit_Expenditure                                 int64\n",
       "Vegetables_Expenditure                            int64\n",
       "Restaurant_and_hotels_Expenditure                 int64\n",
       "Alcoholic_Beverages_Expenditure                   int64\n",
       "Tobacco_Expenditure                               int64\n",
       "Clothing,_Footwear_and_Other_Wear_Expenditure     int64\n",
       "Housing_and_water_Expenditure                     int64\n",
       "Imputed_House_Rental_Value                        int64\n",
       "Medical_Care_Expenditure                          int64\n",
       "Transportation_Expenditure                        int64\n",
       "Communication_Expenditure                         int64\n",
       "Education_Expenditure                             int64\n",
       "Miscellaneous_Goods_and_Services_Expenditure      int64\n",
       "Special_Occasions_Expenditure                     int64\n",
       "Crop_Farming_and_Gardening_expenses               int64\n",
       "Total_Income_from_Entrepreneurial_Acitivites      int64\n",
       "Household_Head_Sex                               object\n",
       "Household_Head_Age                                int64\n",
       "Household_Head_Marital_Status                    object\n",
       "Household_Head_Highest_Grade_Completed           object\n",
       "Household_Head_Job_or_Business_Indicator         object\n",
       "Household_Head_Occupation                        object\n",
       "Household_Head_Class_of_Worker                   object\n",
       "Type_of_Household                                object\n",
       "Total_Number_of_Family_members                    int64\n",
       "Members_with_age_less_than_5_year_old             int64\n",
       "Members_with_age_5_-_17_years_old                 int64\n",
       "Total_number_of_family_members_employed           int64\n",
       "Type_of_Building/House                           object\n",
       "Type_of_Roof                                     object\n",
       "Type_of_Walls                                    object\n",
       "House_Floor_Area                                  int64\n",
       "House_Age                                         int64\n",
       "Number_of_bedrooms                                int64\n",
       "Tenure_Status                                    object\n",
       "Toilet_Facilities                                object\n",
       "Electricity                                       int64\n",
       "Main_Source_of_Water_Supply                      object\n",
       "Number_of_Television                              int64\n",
       "Number_of_CD/VCD/DVD                              int64\n",
       "Number_of_Component/Stereo_set                    int64\n",
       "Number_of_Refrigerator/Freezer                    int64\n",
       "Number_of_Washing_Machine                         int64\n",
       "Number_of_Airconditioner                          int64\n",
       "Number_of_Car,_Jeep,_Van                          int64\n",
       "Number_of_Landline/wireless_telephones            int64\n",
       "Number_of_Cellular_phone                          int64\n",
       "Number_of_Personal_Computer                       int64\n",
       "Number_of_Stove_with_Oven/Gas_Range               int64\n",
       "Number_of_Motorized_Banca                         int64\n",
       "Number_of_Motorcycle/Tricycle                     int64\n",
       "dtype: object"
      ]
     },
     "execution_count": 43,
     "metadata": {},
     "output_type": "execute_result"
    }
   ],
   "source": [
    "#replace spaces with underscores and list column names with their data types\n",
    "data.columns = [c.replace(' ', '_') for c in data.columns]\n",
    "list(data.columns.values)\n",
    "data.dtypes"
   ]
  },
  {
   "cell_type": "code",
   "execution_count": 44,
   "metadata": {},
   "outputs": [
    {
     "data": {
      "text/html": [
       "<div>\n",
       "<style>\n",
       "    .dataframe thead tr:only-child th {\n",
       "        text-align: right;\n",
       "    }\n",
       "\n",
       "    .dataframe thead th {\n",
       "        text-align: left;\n",
       "    }\n",
       "\n",
       "    .dataframe tbody tr th {\n",
       "        vertical-align: top;\n",
       "    }\n",
       "</style>\n",
       "<table border=\"1\" class=\"dataframe\">\n",
       "  <thead>\n",
       "    <tr style=\"text-align: right;\">\n",
       "      <th></th>\n",
       "      <th>Total_Food_Expenditure</th>\n",
       "      <th>Bread_and_Cereals_Expenditure</th>\n",
       "      <th>Total_Rice_Expenditure</th>\n",
       "      <th>Meat_Expenditure</th>\n",
       "      <th>Total_Fish_and__marine_products_Expenditure</th>\n",
       "      <th>Fruit_Expenditure</th>\n",
       "      <th>Vegetables_Expenditure</th>\n",
       "      <th>Alcoholic_Beverages_Expenditure</th>\n",
       "      <th>Total_Household_Income</th>\n",
       "      <th>Total_Number_of_Family_members</th>\n",
       "    </tr>\n",
       "  </thead>\n",
       "  <tbody>\n",
       "    <tr>\n",
       "      <th>count</th>\n",
       "      <td>41544.000000</td>\n",
       "      <td>41544.000000</td>\n",
       "      <td>41544.000000</td>\n",
       "      <td>41544.000000</td>\n",
       "      <td>41544.000000</td>\n",
       "      <td>41544.000000</td>\n",
       "      <td>41544.000000</td>\n",
       "      <td>41544.000000</td>\n",
       "      <td>4.154400e+04</td>\n",
       "      <td>41544.000000</td>\n",
       "    </tr>\n",
       "    <tr>\n",
       "      <th>mean</th>\n",
       "      <td>85099.158194</td>\n",
       "      <td>25133.723642</td>\n",
       "      <td>18195.825005</td>\n",
       "      <td>10540.072574</td>\n",
       "      <td>10529.318337</td>\n",
       "      <td>2550.474990</td>\n",
       "      <td>5006.918568</td>\n",
       "      <td>1085.068121</td>\n",
       "      <td>2.475556e+05</td>\n",
       "      <td>4.635182</td>\n",
       "    </tr>\n",
       "    <tr>\n",
       "      <th>std</th>\n",
       "      <td>51637.947682</td>\n",
       "      <td>13466.482984</td>\n",
       "      <td>11727.224350</td>\n",
       "      <td>10497.727757</td>\n",
       "      <td>7812.201613</td>\n",
       "      <td>2969.752879</td>\n",
       "      <td>3300.175236</td>\n",
       "      <td>2174.431913</td>\n",
       "      <td>2.868805e+05</td>\n",
       "      <td>2.280252</td>\n",
       "    </tr>\n",
       "    <tr>\n",
       "      <th>min</th>\n",
       "      <td>2947.000000</td>\n",
       "      <td>0.000000</td>\n",
       "      <td>0.000000</td>\n",
       "      <td>0.000000</td>\n",
       "      <td>0.000000</td>\n",
       "      <td>0.000000</td>\n",
       "      <td>0.000000</td>\n",
       "      <td>0.000000</td>\n",
       "      <td>1.128500e+04</td>\n",
       "      <td>1.000000</td>\n",
       "    </tr>\n",
       "    <tr>\n",
       "      <th>25%</th>\n",
       "      <td>51017.250000</td>\n",
       "      <td>16556.000000</td>\n",
       "      <td>11020.000000</td>\n",
       "      <td>3353.750000</td>\n",
       "      <td>5504.000000</td>\n",
       "      <td>1024.750000</td>\n",
       "      <td>2873.000000</td>\n",
       "      <td>0.000000</td>\n",
       "      <td>1.048950e+05</td>\n",
       "      <td>3.000000</td>\n",
       "    </tr>\n",
       "    <tr>\n",
       "      <th>50%</th>\n",
       "      <td>72985.500000</td>\n",
       "      <td>23324.000000</td>\n",
       "      <td>16620.000000</td>\n",
       "      <td>7332.500000</td>\n",
       "      <td>8695.000000</td>\n",
       "      <td>1820.000000</td>\n",
       "      <td>4314.000000</td>\n",
       "      <td>270.000000</td>\n",
       "      <td>1.640795e+05</td>\n",
       "      <td>4.000000</td>\n",
       "    </tr>\n",
       "    <tr>\n",
       "      <th>75%</th>\n",
       "      <td>105635.500000</td>\n",
       "      <td>31439.000000</td>\n",
       "      <td>23920.000000</td>\n",
       "      <td>14292.000000</td>\n",
       "      <td>13388.000000</td>\n",
       "      <td>3100.000000</td>\n",
       "      <td>6304.250000</td>\n",
       "      <td>1299.250000</td>\n",
       "      <td>2.911385e+05</td>\n",
       "      <td>6.000000</td>\n",
       "    </tr>\n",
       "    <tr>\n",
       "      <th>max</th>\n",
       "      <td>827565.000000</td>\n",
       "      <td>765864.000000</td>\n",
       "      <td>758326.000000</td>\n",
       "      <td>261566.000000</td>\n",
       "      <td>188208.000000</td>\n",
       "      <td>273769.000000</td>\n",
       "      <td>74800.000000</td>\n",
       "      <td>59592.000000</td>\n",
       "      <td>1.181599e+07</td>\n",
       "      <td>26.000000</td>\n",
       "    </tr>\n",
       "  </tbody>\n",
       "</table>\n",
       "</div>"
      ],
      "text/plain": [
       "       Total_Food_Expenditure  Bread_and_Cereals_Expenditure  \\\n",
       "count            41544.000000                   41544.000000   \n",
       "mean             85099.158194                   25133.723642   \n",
       "std              51637.947682                   13466.482984   \n",
       "min               2947.000000                       0.000000   \n",
       "25%              51017.250000                   16556.000000   \n",
       "50%              72985.500000                   23324.000000   \n",
       "75%             105635.500000                   31439.000000   \n",
       "max             827565.000000                  765864.000000   \n",
       "\n",
       "       Total_Rice_Expenditure  Meat_Expenditure  \\\n",
       "count            41544.000000      41544.000000   \n",
       "mean             18195.825005      10540.072574   \n",
       "std              11727.224350      10497.727757   \n",
       "min                  0.000000          0.000000   \n",
       "25%              11020.000000       3353.750000   \n",
       "50%              16620.000000       7332.500000   \n",
       "75%              23920.000000      14292.000000   \n",
       "max             758326.000000     261566.000000   \n",
       "\n",
       "       Total_Fish_and__marine_products_Expenditure  Fruit_Expenditure  \\\n",
       "count                                 41544.000000       41544.000000   \n",
       "mean                                  10529.318337        2550.474990   \n",
       "std                                    7812.201613        2969.752879   \n",
       "min                                       0.000000           0.000000   \n",
       "25%                                    5504.000000        1024.750000   \n",
       "50%                                    8695.000000        1820.000000   \n",
       "75%                                   13388.000000        3100.000000   \n",
       "max                                  188208.000000      273769.000000   \n",
       "\n",
       "       Vegetables_Expenditure  Alcoholic_Beverages_Expenditure  \\\n",
       "count            41544.000000                     41544.000000   \n",
       "mean              5006.918568                      1085.068121   \n",
       "std               3300.175236                      2174.431913   \n",
       "min                  0.000000                         0.000000   \n",
       "25%               2873.000000                         0.000000   \n",
       "50%               4314.000000                       270.000000   \n",
       "75%               6304.250000                      1299.250000   \n",
       "max              74800.000000                     59592.000000   \n",
       "\n",
       "       Total_Household_Income  Total_Number_of_Family_members  \n",
       "count            4.154400e+04                    41544.000000  \n",
       "mean             2.475556e+05                        4.635182  \n",
       "std              2.868805e+05                        2.280252  \n",
       "min              1.128500e+04                        1.000000  \n",
       "25%              1.048950e+05                        3.000000  \n",
       "50%              1.640795e+05                        4.000000  \n",
       "75%              2.911385e+05                        6.000000  \n",
       "max              1.181599e+07                       26.000000  "
      ]
     },
     "metadata": {},
     "output_type": "display_data"
    },
    {
     "name": "stdout",
     "output_type": "stream",
     "text": [
      "Dataset has 41544 samples with 10 features each.\n"
     ]
    }
   ],
   "source": [
    "# Extract variables for food expenditure and family size\n",
    "df = data[['Total_Food_Expenditure', 'Bread_and_Cereals_Expenditure', \n",
    "           'Total_Rice_Expenditure', 'Meat_Expenditure', \n",
    "           'Total_Fish_and__marine_products_Expenditure', 'Fruit_Expenditure', \n",
    "           'Vegetables_Expenditure', 'Alcoholic_Beverages_Expenditure',\n",
    "           'Total_Household_Income', 'Total_Number_of_Family_members']]\n",
    "\n",
    "display(df.describe())\n",
    "print \"Dataset has {} samples with {} features each.\".format(*df.shape)"
   ]
  },
  {
   "cell_type": "code",
   "execution_count": 45,
   "metadata": {},
   "outputs": [
    {
     "name": "stdout",
     "output_type": "stream",
     "text": [
      "Accuracy of Total_Number_of_Family_members as predictor of other expenditures: 0.02 (+/- 0.10)\n",
      "Accuracy of Total_Food_Expenditure as predictor of other expenditures: 0.63 (+/- 0.14)\n",
      "Accuracy of Total_Household_Income as predictor of other expenditures: -0.15 (+/- 0.36)\n"
     ]
    }
   ],
   "source": [
    "# Check if family size, total food expenditure, or total household income\n",
    "# are correlated with expenditures\n",
    "\n",
    "from sklearn.tree import DecisionTreeRegressor\n",
    "from sklearn.model_selection import cross_val_score\n",
    "from sklearn.cross_validation import train_test_split\n",
    "\n",
    "cortest_variables = ['Total_Number_of_Family_members', 'Total_Food_Expenditure',\n",
    "                   'Total_Household_Income']\n",
    "for i in cortest_variables:\n",
    "    new_data = df.drop([i], axis = 1)\n",
    "    X_train, X_test, y_train, y_test = train_test_split(new_data, \n",
    "                                                    df[i], \n",
    "                                                    test_size = 0.25, random_state = 23)\n",
    "    regressor = DecisionTreeRegressor(random_state=42)\n",
    "    dtr = regressor.fit(X_train,y_train)\n",
    "    score = cross_val_score(regressor, new_data, df[i], cv=10)\n",
    "    print(\"Accuracy of \" + i +\" as predictor of other expenditures: %0.2f (+/- %0.2f)\" % (score.mean(), score.std() * 2))"
   ]
  },
  {
   "cell_type": "code",
   "execution_count": 46,
   "metadata": {},
   "outputs": [
    {
     "name": "stderr",
     "output_type": "stream",
     "text": [
      "/anaconda/envs/ipykernel_py2/lib/python2.7/site-packages/ipykernel_launcher.py:7: FutureWarning: pandas.scatter_matrix is deprecated. Use pandas.plotting.scatter_matrix instead\n",
      "  import sys\n"
     ]
    },
    {
     "data": {
      "image/png": "[encoded data removed]",
      "text/plain": [
       "<matplotlib.figure.Figure at 0x1a0b4b3110>"
      ]
     },
     "metadata": {},
     "output_type": "display_data"
    }
   ],
   "source": [
    "# Run scatter matrix on food expenditure variables to check for correlations\n",
    "from pandas.plotting import scatter_matrix\n",
    "scatter_df = df[['Bread_and_Cereals_Expenditure', \n",
    "           'Total_Rice_Expenditure', 'Meat_Expenditure', \n",
    "           'Total_Fish_and__marine_products_Expenditure', 'Fruit_Expenditure', \n",
    "           'Vegetables_Expenditure']]\n",
    "scatter = pd.scatter_matrix(scatter_df, alpha=0.2, figsize=(6, 6), diagonal='kde')\n",
    "n = len(scatter_df.columns)\n",
    "for x in range(n):\n",
    "    for y in range(n):\n",
    "        ax = scatter[x, y] \n",
    "        ax.xaxis.label.set_rotation(90)\n",
    "        ax.yaxis.label.set_rotation(0)\n",
    "        ax.yaxis.labelpad = 50"
   ]
  },
  {
   "cell_type": "code",
   "execution_count": null,
   "metadata": {},
   "outputs": [],
   "source": [
    "# Visualize distributions\n",
    "list = list(df.columns.values)\n",
    "for i in list:\n",
    "    df[i].plot(kind='hist', bins = 50)\n",
    "    plt.title(i)\n",
    "    plt.show()"
   ]
  },
  {
   "cell_type": "code",
   "execution_count": null,
   "metadata": {},
   "outputs": [],
   "source": [
    "# Transform distributions\n",
    "#convert integer features to logarithmic scale and view their resulting distributions\n",
    "log_df = df\n",
    "\n",
    "for i in list:\n",
    "    log_df[i] = np.log(log_df[i] + 1)\n",
    "    log_df[i].plot(kind='hist', bins = 50)\n",
    "    plt.title(i)\n",
    "    plt.show()"
   ]
  },
  {
   "cell_type": "code",
   "execution_count": null,
   "metadata": {},
   "outputs": [],
   "source": [
    "# Re-visualize correlations"
   ]
  },
  {
   "cell_type": "code",
   "execution_count": null,
   "metadata": {},
   "outputs": [],
   "source": [
    "# Detect outliers"
   ]
  },
  {
   "cell_type": "code",
   "execution_count": null,
   "metadata": {},
   "outputs": [],
   "source": [
    "# Principal Component Analysis & visualization\n",
    "from sklearn.decomposition import PCA\n",
    "pca = PCA(n_components = 3)\n",
    "projected = pca.fit_transform(log_df)\n",
    "print(log_df.shape)\n",
    "print(projected.shape)\n",
    "\n",
    "plt.scatter(projected[:, 0], projected[:, 1], projected[:, 2]\n",
    "            c=log_total_food, edgecolor='none', alpha=0.5,\n",
    "            cmap=plt.cm.get_cmap('spectral', 3))\n",
    "plt.xlabel('component 1')\n",
    "plt.ylabel('component 2')\n",
    "plt.zlabel('component 3')\n",
    "plt.colorbar();"
   ]
  },
  {
   "cell_type": "code",
   "execution_count": null,
   "metadata": {},
   "outputs": [],
   "source": [
    "# Dimensionality Reduction"
   ]
  },
  {
   "cell_type": "code",
   "execution_count": null,
   "metadata": {},
   "outputs": [],
   "source": [
    "# Biplot"
   ]
  },
  {
   "cell_type": "code",
   "execution_count": null,
   "metadata": {},
   "outputs": [],
   "source": [
    "# K-means or Gaussian mixture model"
   ]
  },
  {
   "cell_type": "code",
   "execution_count": null,
   "metadata": {},
   "outputs": [],
   "source": [
    "# Cluster visualization"
   ]
  },
  {
   "cell_type": "code",
   "execution_count": null,
   "metadata": {},
   "outputs": [],
   "source": [
    "# Analyze centers"
   ]
  },
  {
   "cell_type": "code",
   "execution_count": null,
   "metadata": {},
   "outputs": [],
   "source": [
    "# Conclusion"
   ]
  }
 ],
 "metadata": {
  "kernelspec": {
   "display_name": "Python 2",
   "language": "python",
   "name": "python2"
  },
  "language_info": {
   "codemirror_mode": {
    "name": "ipython",
    "version": 2
   },
   "file_extension": ".py",
   "mimetype": "text/x-python",
   "name": "python",
   "nbconvert_exporter": "python",
   "pygments_lexer": "ipython2",
   "version": "2.7.14"
  }
 },
 "nbformat": 4,
 "nbformat_minor": 2
}
